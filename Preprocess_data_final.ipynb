{
 "cells": [
  {
   "cell_type": "code",
   "execution_count": 1,
   "id": "86bd9e9e-9b9c-4b76-993b-64043f5598d2",
   "metadata": {},
   "outputs": [
    {
     "name": "stderr",
     "output_type": "stream",
     "text": [
      "C:\\Users\\Siboney Cardoso\\AppData\\Local\\Temp\\ipykernel_13828\\3503400278.py:5: DtypeWarning: Columns (435,436,437,438,439,440,441,442,443,444,445,446,447,448,449,450,451,452,453,454,455,456,457,458,459,460,461,462,463,464,465,466,467,468,469,470,471,472,473,474,475,476,477,478,479,480,481,482,483,484,485,486,487,488,489,490,491,492,493,494,495,496,497,498,499,500,501,502,503,504,505,506) have mixed types. Specify dtype option on import or set low_memory=False.\n",
      "  data = pd.read_csv('processed_dataset.csv')\n"
     ]
    },
    {
     "name": "stdout",
     "output_type": "stream",
     "text": [
      "All patients have consistent time intervals.\n"
     ]
    }
   ],
   "source": [
    "import pandas as pd\n",
    "import matplotlib.pyplot as plt\n",
    "from sklearn.impute import KNNImputer\n",
    "\n",
    "data = pd.read_csv('processed_dataset.csv')\n",
    "\n",
    "# Verify time column (replace 'time' with the actual column name)\n",
    "time_column = 'time'  # Adjust based on your dataset\n",
    "patient_column = 'p_num'  # Adjust based on your dataset\n",
    "\n",
    "unique_times = data.groupby(patient_column)[time_column].unique()\n",
    "\n",
    "# Check if all patients have the same time intervals\n",
    "reference_time = unique_times.iloc[0]  # Use the first patient's times as a reference\n",
    "consistent_times = all((set(reference_time) == set(times)) for times in unique_times)\n",
    "\n",
    "if consistent_times:\n",
    "    print(\"All patients have consistent time intervals.\")\n",
    "else:\n",
    "    print(\"Time intervals are inconsistent across patients.\")\n"
   ]
  },
  {
   "cell_type": "code",
   "execution_count": 2,
   "id": "c93ba049-4b11-45a8-b09c-ca4790fd79a2",
   "metadata": {},
   "outputs": [
    {
     "name": "stdout",
     "output_type": "stream",
     "text": [
      "Dropped 72 columns related to 'carbs'.\n",
      "['id', 'p_num', 'time', 'bg-5:55', 'bg-5:50', 'bg-5:45', 'bg-5:40', 'bg-5:35', 'bg-5:30', 'bg-5:25', 'bg-5:20', 'bg-5:15', 'bg-5:10', 'bg-5:05', 'bg-5:00', 'bg-4:55', 'bg-4:50', 'bg-4:45', 'bg-4:40', 'bg-4:35', 'bg-4:30', 'bg-4:25', 'bg-4:20', 'bg-4:15', 'bg-4:10', 'bg-4:05', 'bg-4:00', 'bg-3:55', 'bg-3:50', 'bg-3:45', 'bg-3:40', 'bg-3:35', 'bg-3:30', 'bg-3:25', 'bg-3:20', 'bg-3:15', 'bg-3:10', 'bg-3:05', 'bg-3:00', 'bg-2:55', 'bg-2:50', 'bg-2:45', 'bg-2:40', 'bg-2:35', 'bg-2:30', 'bg-2:25', 'bg-2:20', 'bg-2:15', 'bg-2:10', 'bg-2:05', 'bg-2:00', 'bg-1:55', 'bg-1:50', 'bg-1:45', 'bg-1:40', 'bg-1:35', 'bg-1:30', 'bg-1:25', 'bg-1:20', 'bg-1:15', 'bg-1:10', 'bg-1:05', 'bg-1:00', 'bg-0:55', 'bg-0:50', 'bg-0:45', 'bg-0:40', 'bg-0:35', 'bg-0:30', 'bg-0:25', 'bg-0:20', 'bg-0:15', 'bg-0:10', 'bg-0:05', 'bg-0:00', 'insulin-5:55', 'insulin-5:50', 'insulin-5:45', 'insulin-5:40', 'insulin-5:35', 'insulin-5:30', 'insulin-5:25', 'insulin-5:20', 'insulin-5:15', 'insulin-5:10', 'insulin-5:05', 'insulin-5:00', 'insulin-4:55', 'insulin-4:50', 'insulin-4:45', 'insulin-4:40', 'insulin-4:35', 'insulin-4:30', 'insulin-4:25', 'insulin-4:20', 'insulin-4:15', 'insulin-4:10', 'insulin-4:05', 'insulin-4:00', 'insulin-3:55', 'insulin-3:50', 'insulin-3:45', 'insulin-3:40', 'insulin-3:35', 'insulin-3:30', 'insulin-3:25', 'insulin-3:20', 'insulin-3:15', 'insulin-3:10', 'insulin-3:05', 'insulin-3:00', 'insulin-2:55', 'insulin-2:50', 'insulin-2:45', 'insulin-2:40', 'insulin-2:35', 'insulin-2:30', 'insulin-2:25', 'insulin-2:20', 'insulin-2:15', 'insulin-2:10', 'insulin-2:05', 'insulin-2:00', 'insulin-1:55', 'insulin-1:50', 'insulin-1:45', 'insulin-1:40', 'insulin-1:35', 'insulin-1:30', 'insulin-1:25', 'insulin-1:20', 'insulin-1:15', 'insulin-1:10', 'insulin-1:05', 'insulin-1:00', 'insulin-0:55', 'insulin-0:50', 'insulin-0:45', 'insulin-0:40', 'insulin-0:35', 'insulin-0:30', 'insulin-0:25', 'insulin-0:20', 'insulin-0:15', 'insulin-0:10', 'insulin-0:05', 'insulin-0:00', 'hr-5:55', 'hr-5:50', 'hr-5:45', 'hr-5:40', 'hr-5:35', 'hr-5:30', 'hr-5:25', 'hr-5:20', 'hr-5:15', 'hr-5:10', 'hr-5:05', 'hr-5:00', 'hr-4:55', 'hr-4:50', 'hr-4:45', 'hr-4:40', 'hr-4:35', 'hr-4:30', 'hr-4:25', 'hr-4:20', 'hr-4:15', 'hr-4:10', 'hr-4:05', 'hr-4:00', 'hr-3:55', 'hr-3:50', 'hr-3:45', 'hr-3:40', 'hr-3:35', 'hr-3:30', 'hr-3:25', 'hr-3:20', 'hr-3:15', 'hr-3:10', 'hr-3:05', 'hr-3:00', 'hr-2:55', 'hr-2:50', 'hr-2:45', 'hr-2:40', 'hr-2:35', 'hr-2:30', 'hr-2:25', 'hr-2:20', 'hr-2:15', 'hr-2:10', 'hr-2:05', 'hr-2:00', 'hr-1:55', 'hr-1:50', 'hr-1:45', 'hr-1:40', 'hr-1:35', 'hr-1:30', 'hr-1:25', 'hr-1:20', 'hr-1:15', 'hr-1:10', 'hr-1:05', 'hr-1:00', 'hr-0:55', 'hr-0:50', 'hr-0:45', 'hr-0:40', 'hr-0:35', 'hr-0:30', 'hr-0:25', 'hr-0:20', 'hr-0:15', 'hr-0:10', 'hr-0:05', 'hr-0:00', 'steps-5:55', 'steps-5:50', 'steps-5:45', 'steps-5:40', 'steps-5:35', 'steps-5:30', 'steps-5:25', 'steps-5:20', 'steps-5:15', 'steps-5:10', 'steps-5:05', 'steps-5:00', 'steps-4:55', 'steps-4:50', 'steps-4:45', 'steps-4:40', 'steps-4:35', 'steps-4:30', 'steps-4:25', 'steps-4:20', 'steps-4:15', 'steps-4:10', 'steps-4:05', 'steps-4:00', 'steps-3:55', 'steps-3:50', 'steps-3:45', 'steps-3:40', 'steps-3:35', 'steps-3:30', 'steps-3:25', 'steps-3:20', 'steps-3:15', 'steps-3:10', 'steps-3:05', 'steps-3:00', 'steps-2:55', 'steps-2:50', 'steps-2:45', 'steps-2:40', 'steps-2:35', 'steps-2:30', 'steps-2:25', 'steps-2:20', 'steps-2:15', 'steps-2:10', 'steps-2:05', 'steps-2:00', 'steps-1:55', 'steps-1:50', 'steps-1:45', 'steps-1:40', 'steps-1:35', 'steps-1:30', 'steps-1:25', 'steps-1:20', 'steps-1:15', 'steps-1:10', 'steps-1:05', 'steps-1:00', 'steps-0:55', 'steps-0:50', 'steps-0:45', 'steps-0:40', 'steps-0:35', 'steps-0:30', 'steps-0:25', 'steps-0:20', 'steps-0:15', 'steps-0:10', 'steps-0:05', 'steps-0:00', 'cals-5:55', 'cals-5:50', 'cals-5:45', 'cals-5:40', 'cals-5:35', 'cals-5:30', 'cals-5:25', 'cals-5:20', 'cals-5:15', 'cals-5:10', 'cals-5:05', 'cals-5:00', 'cals-4:55', 'cals-4:50', 'cals-4:45', 'cals-4:40', 'cals-4:35', 'cals-4:30', 'cals-4:25', 'cals-4:20', 'cals-4:15', 'cals-4:10', 'cals-4:05', 'cals-4:00', 'cals-3:55', 'cals-3:50', 'cals-3:45', 'cals-3:40', 'cals-3:35', 'cals-3:30', 'cals-3:25', 'cals-3:20', 'cals-3:15', 'cals-3:10', 'cals-3:05', 'cals-3:00', 'cals-2:55', 'cals-2:50', 'cals-2:45', 'cals-2:40', 'cals-2:35', 'cals-2:30', 'cals-2:25', 'cals-2:20', 'cals-2:15', 'cals-2:10', 'cals-2:05', 'cals-2:00', 'cals-1:55', 'cals-1:50', 'cals-1:45', 'cals-1:40', 'cals-1:35', 'cals-1:30', 'cals-1:25', 'cals-1:20', 'cals-1:15', 'cals-1:10', 'cals-1:05', 'cals-1:00', 'cals-0:55', 'cals-0:50', 'cals-0:45', 'cals-0:40', 'cals-0:35', 'cals-0:30', 'cals-0:25', 'cals-0:20', 'cals-0:15', 'cals-0:10', 'cals-0:05', 'cals-0:00', 'activity-5:55', 'activity-5:50', 'activity-5:45', 'activity-5:40', 'activity-5:35', 'activity-5:30', 'activity-5:25', 'activity-5:20', 'activity-5:15', 'activity-5:10', 'activity-5:05', 'activity-5:00', 'activity-4:55', 'activity-4:50', 'activity-4:45', 'activity-4:40', 'activity-4:35', 'activity-4:30', 'activity-4:25', 'activity-4:20', 'activity-4:15', 'activity-4:10', 'activity-4:05', 'activity-4:00', 'activity-3:55', 'activity-3:50', 'activity-3:45', 'activity-3:40', 'activity-3:35', 'activity-3:30', 'activity-3:25', 'activity-3:20', 'activity-3:15', 'activity-3:10', 'activity-3:05', 'activity-3:00', 'activity-2:55', 'activity-2:50', 'activity-2:45', 'activity-2:40', 'activity-2:35', 'activity-2:30', 'activity-2:25', 'activity-2:20', 'activity-2:15', 'activity-2:10', 'activity-2:05', 'activity-2:00', 'activity-1:55', 'activity-1:50', 'activity-1:45', 'activity-1:40', 'activity-1:35', 'activity-1:30', 'activity-1:25', 'activity-1:20', 'activity-1:15', 'activity-1:10', 'activity-1:05', 'activity-1:00', 'activity-0:55', 'activity-0:50', 'activity-0:45', 'activity-0:40', 'activity-0:35', 'activity-0:30', 'activity-0:25', 'activity-0:20', 'activity-0:15', 'activity-0:10', 'activity-0:05', 'activity-0:00', 'bg+1:00']\n"
     ]
    }
   ],
   "source": [
    "# Identify all columns starting with 'carbs-'\n",
    "carbs_cols = [col for col in data.columns if col.startswith('carbs-')]\n",
    "\n",
    "# Drop these columns\n",
    "data.drop(columns=carbs_cols, inplace=True)\n",
    "\n",
    "# Confirmation\n",
    "print(f\"Dropped {len(carbs_cols)} columns related to 'carbs'.\")\n",
    "print(data.columns.tolist())  # Verify remaining columns\n"
   ]
  },
  {
   "cell_type": "code",
   "execution_count": 3,
   "id": "9dd34294-60d9-4915-a65c-1ee7f2840680",
   "metadata": {},
   "outputs": [
    {
     "name": "stdout",
     "output_type": "stream",
     "text": [
      "  p_num                                       unique_times  time_count\n",
      "0   p01  [00:00:00, 00:05:00, 00:10:00, 00:15:00, 00:20...         288\n",
      "1   p02  [00:00:00, 00:05:00, 00:10:00, 00:15:00, 00:20...         288\n",
      "2   p03  [00:00:00, 00:05:00, 00:10:00, 00:15:00, 00:20...         288\n",
      "3   p04  [00:00:00, 00:05:00, 00:10:00, 00:15:00, 00:20...         288\n",
      "4   p05  [00:00:00, 00:05:00, 00:10:00, 00:15:00, 00:20...         288\n",
      "5   p06  [00:00:00, 00:05:00, 00:10:00, 00:15:00, 00:20...         288\n",
      "6   p10  [00:00:00, 00:05:00, 00:10:00, 00:15:00, 00:20...         288\n",
      "7   p11  [00:00:00, 00:05:00, 00:10:00, 00:15:00, 00:20...         288\n",
      "8   p12  [00:00:00, 00:05:00, 00:10:00, 00:15:00, 00:20...         288\n"
     ]
    }
   ],
   "source": [
    "summary = data.groupby('p_num')['time'].apply(lambda x: sorted(x.unique()))\n",
    "\n",
    "summary_df = summary.reset_index()\n",
    "summary_df.columns = ['p_num', 'unique_times']\n",
    "summary_df['time_count'] = summary_df['unique_times'].apply(len)\n",
    "print(summary_df)\n"
   ]
  },
  {
   "cell_type": "code",
   "execution_count": 4,
   "id": "5fb55bd9-f3ca-46f8-85b3-dfaad923a636",
   "metadata": {},
   "outputs": [
    {
     "name": "stdout",
     "output_type": "stream",
     "text": [
      "            Column  Missing Count  Missing Percentage\n",
      "392  activity-3:30          73664           98.755899\n",
      "389  activity-3:45          73663           98.754558\n",
      "386  activity-4:00          73661           98.751877\n",
      "395  activity-3:15          73660           98.750536\n",
      "407  activity-2:15          73660           98.750536\n",
      "..             ...            ...                 ...\n",
      "74         bg-0:00           2233            2.993619\n",
      "0               id              0            0.000000\n",
      "1            p_num              0            0.000000\n",
      "2             time              0            0.000000\n",
      "435        bg+1:00              0            0.000000\n",
      "\n",
      "[436 rows x 3 columns]\n"
     ]
    }
   ],
   "source": [
    "# Check for missing values\n",
    "missing_summary = data.isnull().sum().reset_index()\n",
    "missing_summary.columns = ['Column', 'Missing Count']\n",
    "missing_summary['Missing Percentage'] = (missing_summary['Missing Count'] / len(data)) * 100\n",
    "print(missing_summary.sort_values(by='Missing Percentage', ascending=False))\n"
   ]
  },
  {
   "cell_type": "markdown",
   "id": "2f738089-bdfb-4c6d-afd4-927e60548475",
   "metadata": {},
   "source": [
    "### Double check that times match up "
   ]
  },
  {
   "cell_type": "code",
   "execution_count": 5,
   "id": "36fe709f-b901-4d60-8602-9f855c9ec41e",
   "metadata": {},
   "outputs": [
    {
     "name": "stdout",
     "output_type": "stream",
     "text": [
      "p_num\n",
      "p01    [00:00:00, 00:05:00, 00:10:00, 00:15:00, 00:20...\n",
      "p02    [00:00:00, 00:05:00, 00:10:00, 00:15:00, 00:20...\n",
      "p03    [00:00:00, 00:05:00, 00:10:00, 00:15:00, 00:20...\n",
      "p04    [00:00:00, 00:05:00, 00:10:00, 00:15:00, 00:20...\n",
      "p05    [00:00:00, 00:05:00, 00:10:00, 00:15:00, 00:20...\n",
      "p06    [00:00:00, 00:05:00, 00:10:00, 00:15:00, 00:20...\n",
      "p10    [00:00:00, 00:05:00, 00:10:00, 00:15:00, 00:20...\n",
      "p11    [00:00:00, 00:05:00, 00:10:00, 00:15:00, 00:20...\n",
      "p12    [00:00:00, 00:05:00, 00:10:00, 00:15:00, 00:20...\n",
      "Name: time, dtype: object\n",
      "Aligned dataset contains 74592 rows.\n"
     ]
    }
   ],
   "source": [
    "# Check unique times per patient\n",
    "time_summary = data.groupby('p_num')['time'].apply(lambda x: sorted(x.unique()))\n",
    "print(time_summary)\n",
    "\n",
    "# Align times\n",
    "common_times = set.intersection(*map(set, time_summary))  # Find common times across all patients\n",
    "aligned_train = data[data['time'].isin(common_times)]  # Keep only rows with common times\n",
    "print(f\"Aligned dataset contains {len(aligned_train)} rows.\")\n"
   ]
  },
  {
   "cell_type": "code",
   "execution_count": 6,
   "id": "19b431df-c8d2-4447-9d31-a8b207e8c48f",
   "metadata": {},
   "outputs": [
    {
     "data": {
      "text/plain": [
       "(74592, 436)"
      ]
     },
     "execution_count": 6,
     "metadata": {},
     "output_type": "execute_result"
    }
   ],
   "source": [
    "data.shape"
   ]
  },
  {
   "cell_type": "markdown",
   "id": "f9cd05d4-1af4-48fb-ab88-3a3d74c98f13",
   "metadata": {},
   "source": [
    "Step 3: Handle Missing Data\n",
    "Continuous Features (e.g., bg-X:XX, hr-X:XX):\n",
    "Use forward fill, backward fill, or linear interpolation to fill gaps in time-series data."
   ]
  },
  {
   "cell_type": "code",
   "execution_count": 7,
   "id": "2d41e6f1-b9b5-477d-bc8a-755f81a7649b",
   "metadata": {},
   "outputs": [],
   "source": [
    "# # Identify continuous columns (e.g., bg, hr, etc.)\n",
    "# continuous_cols = [col for col in data.columns if 'bg-' in col or 'hr-' in col]\n",
    "\n",
    "# # Forward and backward fill for continuous columns\n",
    "# data[continuous_cols] = data[continuous_cols].ffill().bfill()\n",
    "\n",
    "# # Confirmation message\n",
    "# print(\"Forward and backward filling for continuous columns is complete!\")\n"
   ]
  },
  {
   "cell_type": "code",
   "execution_count": 8,
   "id": "0ab98634-7194-463a-9374-a160ed1606a8",
   "metadata": {},
   "outputs": [
    {
     "name": "stdout",
     "output_type": "stream",
     "text": [
      "Missing values in bg-X:XX and hr-X:XX have been handled.\n"
     ]
    }
   ],
   "source": [
    "# Define bg-X:XX and hr-X:XX columns\n",
    "bg_cols = [col for col in data.columns if col.startswith('bg-')]\n",
    "hr_cols = [col for col in data.columns if col.startswith('hr-')]\n",
    "\n",
    "# Apply forward/backward fill first\n",
    "data[bg_cols] = data[bg_cols].ffill().bfill()\n",
    "data[hr_cols] = data[hr_cols].ffill().bfill()\n",
    "\n",
    "# Use KNN for remaining missing values (if any)\n",
    "from sklearn.impute import KNNImputer\n",
    "\n",
    "imputer = KNNImputer(n_neighbors=5)\n",
    "data[bg_cols + hr_cols] = imputer.fit_transform(data[bg_cols + hr_cols])\n",
    "\n",
    "# Confirmation\n",
    "print(\"Missing values in bg-X:XX and hr-X:XX have been handled.\")\n"
   ]
  },
  {
   "cell_type": "markdown",
   "id": "ba2d2ce3-1a7d-4c18-8aa2-96503c7af3e1",
   "metadata": {},
   "source": [
    "Activity Columns (activity-X:XX):\n",
    "Replace missing activities with 'unknown' or the most frequent activity."
   ]
  },
  {
   "cell_type": "code",
   "execution_count": 9,
   "id": "385d49a6-cc27-421b-9481-cc99711a6ae4",
   "metadata": {},
   "outputs": [],
   "source": [
    "# activity_cols = [col for col in data.columns if 'activity-' in col]\n",
    "# data[activity_cols] = data[activity_cols].fillna('unknown')\n",
    "\n",
    "# # Confirmation message\n",
    "# print(\"Missing activity values have been filled with 'unknown'.\")\n"
   ]
  },
  {
   "cell_type": "code",
   "execution_count": 10,
   "id": "b5639aa1-6182-4979-93cc-6d50c9922dce",
   "metadata": {},
   "outputs": [],
   "source": [
    "# insulin_cols = [col for col in data.columns if 'insulin-' in col]\n",
    "# carbs_cols = [col for col in data.columns if 'carbs-' in col]\n",
    "# data[insulin_cols + carbs_cols] = data[insulin_cols + carbs_cols].fillna(0)"
   ]
  },
  {
   "cell_type": "code",
   "execution_count": 11,
   "id": "e9029575-c4a0-4025-9ef5-3147eba4468c",
   "metadata": {},
   "outputs": [],
   "source": [
    "# Re-check missing data"
   ]
  },
  {
   "cell_type": "code",
   "execution_count": 12,
   "id": "384549f6-d562-4ed4-865b-856459a51168",
   "metadata": {},
   "outputs": [
    {
     "name": "stdout",
     "output_type": "stream",
     "text": [
      "Total missing values in the dataset: 10796047\n"
     ]
    }
   ],
   "source": [
    "# Count total missing values across the entire dataset\n",
    "total_missing = data.isnull().sum().sum()\n",
    "print(f\"Total missing values in the dataset: {total_missing}\")"
   ]
  },
  {
   "cell_type": "code",
   "execution_count": 13,
   "id": "bcf31c0c-400b-415e-a8cc-85ed731eb319",
   "metadata": {},
   "outputs": [
    {
     "name": "stdout",
     "output_type": "stream",
     "text": [
      "insulin-5:55      8288\n",
      "insulin-5:50      8288\n",
      "insulin-5:45      8288\n",
      "insulin-5:40      8288\n",
      "insulin-5:35      8288\n",
      "                 ...  \n",
      "activity-0:20    73610\n",
      "activity-0:15    73629\n",
      "activity-0:10    73623\n",
      "activity-0:05    73607\n",
      "activity-0:00    73621\n",
      "Length: 288, dtype: int64\n"
     ]
    }
   ],
   "source": [
    "# Count missing values for each column\n",
    "missing_by_column = data.isnull().sum()\n",
    "print(missing_by_column[missing_by_column > 0])  # Display only columns with missing values\n"
   ]
  },
  {
   "cell_type": "code",
   "execution_count": 14,
   "id": "8b625d6a-8d83-4242-98e9-b2ec72984707",
   "metadata": {},
   "outputs": [
    {
     "name": "stdout",
     "output_type": "stream",
     "text": [
      "insulin-5:55     11.111111\n",
      "insulin-5:50     11.111111\n",
      "insulin-5:45     11.111111\n",
      "insulin-5:40     11.111111\n",
      "insulin-5:35     11.111111\n",
      "                   ...    \n",
      "activity-0:20    98.683505\n",
      "activity-0:15    98.708977\n",
      "activity-0:10    98.700933\n",
      "activity-0:05    98.679483\n",
      "activity-0:00    98.698252\n",
      "Length: 288, dtype: float64\n"
     ]
    }
   ],
   "source": [
    "# Calculate the percentage of missing values for each column\n",
    "missing_percentage = (data.isnull().sum() / len(data)) * 100\n",
    "print(missing_percentage[missing_percentage > 0])  # Display only columns with missing values\n"
   ]
  },
  {
   "cell_type": "markdown",
   "id": "b0cc038f-b479-4b2b-93cc-4ff07022e10e",
   "metadata": {},
   "source": [
    "## do KNN on rest"
   ]
  },
  {
   "cell_type": "code",
   "execution_count": 15,
   "id": "7bac3068-c1b8-4775-81be-d5e952057908",
   "metadata": {},
   "outputs": [
    {
     "name": "stdout",
     "output_type": "stream",
     "text": [
      "KNN imputation applied to 289 columns.\n"
     ]
    }
   ],
   "source": [
    "from sklearn.impute import KNNImputer\n",
    "\n",
    "# Columns to exclude from KNN imputation\n",
    "exclude_cols = ['id', 'p_num', 'time']  # Explicit exclusions\n",
    "exclude_cols += [col for col in data.columns if col.startswith('insulin-') or col.startswith('activity-')]\n",
    "\n",
    "# Columns to include in KNN imputation\n",
    "knn_cols = [col for col in data.columns if col not in exclude_cols]\n",
    "\n",
    "# Initialize the KNN imputer\n",
    "imputer = KNNImputer(n_neighbors=5)\n",
    "\n",
    "# Apply KNN imputation to the selected columns\n",
    "data[knn_cols] = imputer.fit_transform(data[knn_cols])\n",
    "\n",
    "# Confirmation\n",
    "print(f\"KNN imputation applied to {len(knn_cols)} columns.\")\n"
   ]
  },
  {
   "cell_type": "code",
   "execution_count": 16,
   "id": "f2fa7269-1d45-4c47-be63-dbcc5761de2b",
   "metadata": {},
   "outputs": [
    {
     "name": "stdout",
     "output_type": "stream",
     "text": [
      "Dataset saved to 'imputed_dataset.csv'\n"
     ]
    }
   ],
   "source": [
    "# Save the updated dataset to a CSV file\n",
    "data.to_csv('imputed_dataset.csv', index=False)\n",
    "\n",
    "print(\"Dataset saved to 'imputed_dataset.csv'\")"
   ]
  }
 ],
 "metadata": {
  "kernelspec": {
   "display_name": "Python 3 (ipykernel)",
   "language": "python",
   "name": "python3"
  },
  "language_info": {
   "codemirror_mode": {
    "name": "ipython",
    "version": 3
   },
   "file_extension": ".py",
   "mimetype": "text/x-python",
   "name": "python",
   "nbconvert_exporter": "python",
   "pygments_lexer": "ipython3",
   "version": "3.12.4"
  }
 },
 "nbformat": 4,
 "nbformat_minor": 5
}
